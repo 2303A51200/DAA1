{
  "nbformat": 4,
  "nbformat_minor": 0,
  "metadata": {
    "colab": {
      "provenance": [],
      "authorship_tag": "ABX9TyOaBBKmZS1sUw+wvMYEYBc1",
      "include_colab_link": true
    },
    "kernelspec": {
      "name": "python3",
      "display_name": "Python 3"
    },
    "language_info": {
      "name": "python"
    }
  },
  "cells": [
    {
      "cell_type": "markdown",
      "metadata": {
        "id": "view-in-github",
        "colab_type": "text"
      },
      "source": [
        "<a href=\"https://colab.research.google.com/github/2303A51200/DAA1/blob/main/Untitled20.ipynb\" target=\"_parent\"><img src=\"https://colab.research.google.com/assets/colab-badge.svg\" alt=\"Open In Colab\"/></a>"
      ]
    },
    {
      "cell_type": "code",
      "execution_count": 1,
      "metadata": {
        "colab": {
          "base_uri": "https://localhost:8080/",
          "height": 106
        },
        "id": "JBZ6DdvJYNDY",
        "outputId": "163ae27f-7027-4c97-b8b1-6390608c9456"
      },
      "outputs": [
        {
          "output_type": "error",
          "ename": "SyntaxError",
          "evalue": "invalid decimal literal (<ipython-input-1-50ad018cece2>, line 2)",
          "traceback": [
            "\u001b[0;36m  File \u001b[0;32m\"<ipython-input-1-50ad018cece2>\"\u001b[0;36m, line \u001b[0;32m2\u001b[0m\n\u001b[0;31m    M.PRAVALIKA (2303A51204)\u001b[0m\n\u001b[0m                    ^\u001b[0m\n\u001b[0;31mSyntaxError\u001b[0m\u001b[0;31m:\u001b[0m invalid decimal literal\n"
          ]
        }
      ],
      "source": [
        "T019\n",
        "\n",
        "M.PRAVALIKA (2303A51204)\n",
        "K.SREENIDHI (2303A51193)\n",
        "K.SHIVA (2303A51200)\n",
        "P.SHREEMUKHI (2303A510J6)\n",
        "CH.VARSHITHA (2303A51187)\n"
      ]
    }
  ]
}